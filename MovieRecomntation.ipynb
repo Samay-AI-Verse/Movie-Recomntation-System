{
 "cells": [
  {
   "cell_type": "markdown",
   "id": "64cb9f98-fb18-4b28-b513-0a010469bf91",
   "metadata": {},
   "source": [
    "# TMDB-Based Movie Recommendation System using NLP and Cosine Similarity"
   ]
  },
  {
   "cell_type": "markdown",
   "id": "209b8b3a-43a9-4dea-9a96-a889887c9d0e",
   "metadata": {},
   "source": [
    "This notebook builds a content-based movie recommendation system using the TMDB 5000 dataset. It processes metadata such as genres, keywords, cast, and crew to create a meaningful representation of each movie. Then, using natural language processing (NLP) and cosine similarity, it finds and recommends movies that are most similar to a given input movie."
   ]
  },
  {
   "cell_type": "code",
   "execution_count": 1,
   "id": "94cf28a8-b5ff-4228-b2bc-4df280ca8d30",
   "metadata": {},
   "outputs": [],
   "source": [
    "import pandas as pd\n",
    "import numpy as np"
   ]
  },
  {
   "cell_type": "code",
   "execution_count": 2,
   "id": "c3156131-819a-4485-9259-62afe476b11e",
   "metadata": {},
   "outputs": [],
   "source": [
    "movies = pd.read_csv('tmdb_5000_movies.csv')\n",
    "credits = pd.read_csv('tmdb_5000_credits.csv')"
   ]
  },
  {
   "cell_type": "code",
   "execution_count": 3,
   "id": "b9e52fb5-6609-4774-b6d2-1f9d2898736b",
   "metadata": {},
   "outputs": [],
   "source": [
    "movies = movies.merge(credits, on = 'title')"
   ]
  },
  {
   "cell_type": "code",
   "execution_count": 4,
   "id": "8e69055b-bf7b-486d-a6fd-f81a93cec250",
   "metadata": {},
   "outputs": [
    {
     "data": {
      "text/html": [
       "<div>\n",
       "<style scoped>\n",
       "    .dataframe tbody tr th:only-of-type {\n",
       "        vertical-align: middle;\n",
       "    }\n",
       "\n",
       "    .dataframe tbody tr th {\n",
       "        vertical-align: top;\n",
       "    }\n",
       "\n",
       "    .dataframe thead th {\n",
       "        text-align: right;\n",
       "    }\n",
       "</style>\n",
       "<table border=\"1\" class=\"dataframe\">\n",
       "  <thead>\n",
       "    <tr style=\"text-align: right;\">\n",
       "      <th></th>\n",
       "      <th>budget</th>\n",
       "      <th>genres</th>\n",
       "      <th>homepage</th>\n",
       "      <th>id</th>\n",
       "      <th>keywords</th>\n",
       "      <th>original_language</th>\n",
       "      <th>original_title</th>\n",
       "      <th>overview</th>\n",
       "      <th>popularity</th>\n",
       "      <th>production_companies</th>\n",
       "      <th>...</th>\n",
       "      <th>runtime</th>\n",
       "      <th>spoken_languages</th>\n",
       "      <th>status</th>\n",
       "      <th>tagline</th>\n",
       "      <th>title</th>\n",
       "      <th>vote_average</th>\n",
       "      <th>vote_count</th>\n",
       "      <th>movie_id</th>\n",
       "      <th>cast</th>\n",
       "      <th>crew</th>\n",
       "    </tr>\n",
       "  </thead>\n",
       "  <tbody>\n",
       "    <tr>\n",
       "      <th>0</th>\n",
       "      <td>237000000</td>\n",
       "      <td>[{\"id\": 28, \"name\": \"Action\"}, {\"id\": 12, \"nam...</td>\n",
       "      <td>http://www.avatarmovie.com/</td>\n",
       "      <td>19995</td>\n",
       "      <td>[{\"id\": 1463, \"name\": \"culture clash\"}, {\"id\":...</td>\n",
       "      <td>en</td>\n",
       "      <td>Avatar</td>\n",
       "      <td>In the 22nd century, a paraplegic Marine is di...</td>\n",
       "      <td>150.437577</td>\n",
       "      <td>[{\"name\": \"Ingenious Film Partners\", \"id\": 289...</td>\n",
       "      <td>...</td>\n",
       "      <td>162.0</td>\n",
       "      <td>[{\"iso_639_1\": \"en\", \"name\": \"English\"}, {\"iso...</td>\n",
       "      <td>Released</td>\n",
       "      <td>Enter the World of Pandora.</td>\n",
       "      <td>Avatar</td>\n",
       "      <td>7.2</td>\n",
       "      <td>11800</td>\n",
       "      <td>19995</td>\n",
       "      <td>[{\"cast_id\": 242, \"character\": \"Jake Sully\", \"...</td>\n",
       "      <td>[{\"credit_id\": \"52fe48009251416c750aca23\", \"de...</td>\n",
       "    </tr>\n",
       "    <tr>\n",
       "      <th>1</th>\n",
       "      <td>300000000</td>\n",
       "      <td>[{\"id\": 12, \"name\": \"Adventure\"}, {\"id\": 14, \"...</td>\n",
       "      <td>http://disney.go.com/disneypictures/pirates/</td>\n",
       "      <td>285</td>\n",
       "      <td>[{\"id\": 270, \"name\": \"ocean\"}, {\"id\": 726, \"na...</td>\n",
       "      <td>en</td>\n",
       "      <td>Pirates of the Caribbean: At World's End</td>\n",
       "      <td>Captain Barbossa, long believed to be dead, ha...</td>\n",
       "      <td>139.082615</td>\n",
       "      <td>[{\"name\": \"Walt Disney Pictures\", \"id\": 2}, {\"...</td>\n",
       "      <td>...</td>\n",
       "      <td>169.0</td>\n",
       "      <td>[{\"iso_639_1\": \"en\", \"name\": \"English\"}]</td>\n",
       "      <td>Released</td>\n",
       "      <td>At the end of the world, the adventure begins.</td>\n",
       "      <td>Pirates of the Caribbean: At World's End</td>\n",
       "      <td>6.9</td>\n",
       "      <td>4500</td>\n",
       "      <td>285</td>\n",
       "      <td>[{\"cast_id\": 4, \"character\": \"Captain Jack Spa...</td>\n",
       "      <td>[{\"credit_id\": \"52fe4232c3a36847f800b579\", \"de...</td>\n",
       "    </tr>\n",
       "  </tbody>\n",
       "</table>\n",
       "<p>2 rows × 23 columns</p>\n",
       "</div>"
      ],
      "text/plain": [
       "      budget                                             genres  \\\n",
       "0  237000000  [{\"id\": 28, \"name\": \"Action\"}, {\"id\": 12, \"nam...   \n",
       "1  300000000  [{\"id\": 12, \"name\": \"Adventure\"}, {\"id\": 14, \"...   \n",
       "\n",
       "                                       homepage     id  \\\n",
       "0                   http://www.avatarmovie.com/  19995   \n",
       "1  http://disney.go.com/disneypictures/pirates/    285   \n",
       "\n",
       "                                            keywords original_language  \\\n",
       "0  [{\"id\": 1463, \"name\": \"culture clash\"}, {\"id\":...                en   \n",
       "1  [{\"id\": 270, \"name\": \"ocean\"}, {\"id\": 726, \"na...                en   \n",
       "\n",
       "                             original_title  \\\n",
       "0                                    Avatar   \n",
       "1  Pirates of the Caribbean: At World's End   \n",
       "\n",
       "                                            overview  popularity  \\\n",
       "0  In the 22nd century, a paraplegic Marine is di...  150.437577   \n",
       "1  Captain Barbossa, long believed to be dead, ha...  139.082615   \n",
       "\n",
       "                                production_companies  ... runtime  \\\n",
       "0  [{\"name\": \"Ingenious Film Partners\", \"id\": 289...  ...   162.0   \n",
       "1  [{\"name\": \"Walt Disney Pictures\", \"id\": 2}, {\"...  ...   169.0   \n",
       "\n",
       "                                    spoken_languages    status  \\\n",
       "0  [{\"iso_639_1\": \"en\", \"name\": \"English\"}, {\"iso...  Released   \n",
       "1           [{\"iso_639_1\": \"en\", \"name\": \"English\"}]  Released   \n",
       "\n",
       "                                          tagline  \\\n",
       "0                     Enter the World of Pandora.   \n",
       "1  At the end of the world, the adventure begins.   \n",
       "\n",
       "                                      title vote_average vote_count movie_id  \\\n",
       "0                                    Avatar          7.2      11800    19995   \n",
       "1  Pirates of the Caribbean: At World's End          6.9       4500      285   \n",
       "\n",
       "                                                cast  \\\n",
       "0  [{\"cast_id\": 242, \"character\": \"Jake Sully\", \"...   \n",
       "1  [{\"cast_id\": 4, \"character\": \"Captain Jack Spa...   \n",
       "\n",
       "                                                crew  \n",
       "0  [{\"credit_id\": \"52fe48009251416c750aca23\", \"de...  \n",
       "1  [{\"credit_id\": \"52fe4232c3a36847f800b579\", \"de...  \n",
       "\n",
       "[2 rows x 23 columns]"
      ]
     },
     "execution_count": 4,
     "metadata": {},
     "output_type": "execute_result"
    }
   ],
   "source": [
    "movies.head(2)"
   ]
  },
  {
   "cell_type": "code",
   "execution_count": 5,
   "id": "5e8477ce-d05c-472a-ad50-50721d4aaeca",
   "metadata": {},
   "outputs": [
    {
     "name": "stdout",
     "output_type": "stream",
     "text": [
      "<class 'pandas.core.frame.DataFrame'>\n",
      "RangeIndex: 4809 entries, 0 to 4808\n",
      "Data columns (total 23 columns):\n",
      " #   Column                Non-Null Count  Dtype  \n",
      "---  ------                --------------  -----  \n",
      " 0   budget                4809 non-null   int64  \n",
      " 1   genres                4809 non-null   object \n",
      " 2   homepage              1713 non-null   object \n",
      " 3   id                    4809 non-null   int64  \n",
      " 4   keywords              4809 non-null   object \n",
      " 5   original_language     4809 non-null   object \n",
      " 6   original_title        4809 non-null   object \n",
      " 7   overview              4806 non-null   object \n",
      " 8   popularity            4809 non-null   float64\n",
      " 9   production_companies  4809 non-null   object \n",
      " 10  production_countries  4809 non-null   object \n",
      " 11  release_date          4808 non-null   object \n",
      " 12  revenue               4809 non-null   int64  \n",
      " 13  runtime               4807 non-null   float64\n",
      " 14  spoken_languages      4809 non-null   object \n",
      " 15  status                4809 non-null   object \n",
      " 16  tagline               3965 non-null   object \n",
      " 17  title                 4809 non-null   object \n",
      " 18  vote_average          4809 non-null   float64\n",
      " 19  vote_count            4809 non-null   int64  \n",
      " 20  movie_id              4809 non-null   int64  \n",
      " 21  cast                  4809 non-null   object \n",
      " 22  crew                  4809 non-null   object \n",
      "dtypes: float64(3), int64(5), object(15)\n",
      "memory usage: 864.2+ KB\n"
     ]
    }
   ],
   "source": [
    "movies.info()"
   ]
  },
  {
   "cell_type": "code",
   "execution_count": 6,
   "id": "2405e796-aad2-4f13-97db-b4844b803d8f",
   "metadata": {},
   "outputs": [],
   "source": [
    "# genres\n",
    "# homepage\n",
    "#id\n",
    "#keywords \n",
    "# title\n",
    "# overview\n",
    "#cast\n",
    "# crew"
   ]
  },
  {
   "cell_type": "code",
   "execution_count": 7,
   "id": "95ab9875-5370-4e9e-8b8b-e4e53778848c",
   "metadata": {},
   "outputs": [],
   "source": [
    "movies = movies[['id','genres','title','overview','keywords','cast','crew']]"
   ]
  },
  {
   "cell_type": "code",
   "execution_count": 8,
   "id": "fb41f0fe-9b3a-4a9d-ac55-a304eb9681c9",
   "metadata": {},
   "outputs": [
    {
     "data": {
      "text/html": [
       "<div>\n",
       "<style scoped>\n",
       "    .dataframe tbody tr th:only-of-type {\n",
       "        vertical-align: middle;\n",
       "    }\n",
       "\n",
       "    .dataframe tbody tr th {\n",
       "        vertical-align: top;\n",
       "    }\n",
       "\n",
       "    .dataframe thead th {\n",
       "        text-align: right;\n",
       "    }\n",
       "</style>\n",
       "<table border=\"1\" class=\"dataframe\">\n",
       "  <thead>\n",
       "    <tr style=\"text-align: right;\">\n",
       "      <th></th>\n",
       "      <th>id</th>\n",
       "      <th>genres</th>\n",
       "      <th>title</th>\n",
       "      <th>overview</th>\n",
       "      <th>keywords</th>\n",
       "      <th>cast</th>\n",
       "      <th>crew</th>\n",
       "    </tr>\n",
       "  </thead>\n",
       "  <tbody>\n",
       "    <tr>\n",
       "      <th>0</th>\n",
       "      <td>19995</td>\n",
       "      <td>[{\"id\": 28, \"name\": \"Action\"}, {\"id\": 12, \"nam...</td>\n",
       "      <td>Avatar</td>\n",
       "      <td>In the 22nd century, a paraplegic Marine is di...</td>\n",
       "      <td>[{\"id\": 1463, \"name\": \"culture clash\"}, {\"id\":...</td>\n",
       "      <td>[{\"cast_id\": 242, \"character\": \"Jake Sully\", \"...</td>\n",
       "      <td>[{\"credit_id\": \"52fe48009251416c750aca23\", \"de...</td>\n",
       "    </tr>\n",
       "    <tr>\n",
       "      <th>1</th>\n",
       "      <td>285</td>\n",
       "      <td>[{\"id\": 12, \"name\": \"Adventure\"}, {\"id\": 14, \"...</td>\n",
       "      <td>Pirates of the Caribbean: At World's End</td>\n",
       "      <td>Captain Barbossa, long believed to be dead, ha...</td>\n",
       "      <td>[{\"id\": 270, \"name\": \"ocean\"}, {\"id\": 726, \"na...</td>\n",
       "      <td>[{\"cast_id\": 4, \"character\": \"Captain Jack Spa...</td>\n",
       "      <td>[{\"credit_id\": \"52fe4232c3a36847f800b579\", \"de...</td>\n",
       "    </tr>\n",
       "  </tbody>\n",
       "</table>\n",
       "</div>"
      ],
      "text/plain": [
       "      id                                             genres  \\\n",
       "0  19995  [{\"id\": 28, \"name\": \"Action\"}, {\"id\": 12, \"nam...   \n",
       "1    285  [{\"id\": 12, \"name\": \"Adventure\"}, {\"id\": 14, \"...   \n",
       "\n",
       "                                      title  \\\n",
       "0                                    Avatar   \n",
       "1  Pirates of the Caribbean: At World's End   \n",
       "\n",
       "                                            overview  \\\n",
       "0  In the 22nd century, a paraplegic Marine is di...   \n",
       "1  Captain Barbossa, long believed to be dead, ha...   \n",
       "\n",
       "                                            keywords  \\\n",
       "0  [{\"id\": 1463, \"name\": \"culture clash\"}, {\"id\":...   \n",
       "1  [{\"id\": 270, \"name\": \"ocean\"}, {\"id\": 726, \"na...   \n",
       "\n",
       "                                                cast  \\\n",
       "0  [{\"cast_id\": 242, \"character\": \"Jake Sully\", \"...   \n",
       "1  [{\"cast_id\": 4, \"character\": \"Captain Jack Spa...   \n",
       "\n",
       "                                                crew  \n",
       "0  [{\"credit_id\": \"52fe48009251416c750aca23\", \"de...  \n",
       "1  [{\"credit_id\": \"52fe4232c3a36847f800b579\", \"de...  "
      ]
     },
     "execution_count": 8,
     "metadata": {},
     "output_type": "execute_result"
    }
   ],
   "source": [
    "movies.head(2)"
   ]
  },
  {
   "cell_type": "code",
   "execution_count": 9,
   "id": "bc2e2138-60e8-46cc-8730-bdc1c2f6f8a1",
   "metadata": {},
   "outputs": [
    {
     "data": {
      "text/plain": [
       "id          0\n",
       "genres      0\n",
       "title       0\n",
       "overview    3\n",
       "keywords    0\n",
       "cast        0\n",
       "crew        0\n",
       "dtype: int64"
      ]
     },
     "execution_count": 9,
     "metadata": {},
     "output_type": "execute_result"
    }
   ],
   "source": [
    "movies.isnull().sum()"
   ]
  },
  {
   "cell_type": "code",
   "execution_count": 10,
   "id": "68d41b78-af42-4661-a2cd-2e22ec2403e4",
   "metadata": {},
   "outputs": [],
   "source": [
    "movies.dropna(inplace = True)"
   ]
  },
  {
   "cell_type": "code",
   "execution_count": 11,
   "id": "5fd415df-b313-49e6-9243-8ae0375ef0d7",
   "metadata": {},
   "outputs": [],
   "source": [
    "import ast"
   ]
  },
  {
   "cell_type": "code",
   "execution_count": 12,
   "id": "d11869ae-bb7d-4fda-b214-ec93817ea085",
   "metadata": {},
   "outputs": [
    {
     "data": {
      "text/plain": [
       "'[{\"id\": 28, \"name\": \"Action\"}, {\"id\": 12, \"name\": \"Adventure\"}, {\"id\": 14, \"name\": \"Fantasy\"}, {\"id\": 878, \"name\": \"Science Fiction\"}]'"
      ]
     },
     "execution_count": 12,
     "metadata": {},
     "output_type": "execute_result"
    }
   ],
   "source": [
    "movies['genres'][0]"
   ]
  },
  {
   "cell_type": "code",
   "execution_count": 13,
   "id": "8c74ecba-e469-42a8-b719-e96aae0c13e2",
   "metadata": {},
   "outputs": [],
   "source": [
    "newlist = ['genres','keywords','cast','crew']"
   ]
  },
  {
   "cell_type": "code",
   "execution_count": 14,
   "id": "bf459556-4d98-4b7c-b384-1f08d49c13ca",
   "metadata": {},
   "outputs": [
    {
     "data": {
      "text/html": [
       "<div>\n",
       "<style scoped>\n",
       "    .dataframe tbody tr th:only-of-type {\n",
       "        vertical-align: middle;\n",
       "    }\n",
       "\n",
       "    .dataframe tbody tr th {\n",
       "        vertical-align: top;\n",
       "    }\n",
       "\n",
       "    .dataframe thead th {\n",
       "        text-align: right;\n",
       "    }\n",
       "</style>\n",
       "<table border=\"1\" class=\"dataframe\">\n",
       "  <thead>\n",
       "    <tr style=\"text-align: right;\">\n",
       "      <th></th>\n",
       "      <th>id</th>\n",
       "      <th>genres</th>\n",
       "      <th>title</th>\n",
       "      <th>overview</th>\n",
       "      <th>keywords</th>\n",
       "      <th>cast</th>\n",
       "      <th>crew</th>\n",
       "    </tr>\n",
       "  </thead>\n",
       "  <tbody>\n",
       "    <tr>\n",
       "      <th>0</th>\n",
       "      <td>19995</td>\n",
       "      <td>[{\"id\": 28, \"name\": \"Action\"}, {\"id\": 12, \"nam...</td>\n",
       "      <td>Avatar</td>\n",
       "      <td>In the 22nd century, a paraplegic Marine is di...</td>\n",
       "      <td>[{\"id\": 1463, \"name\": \"culture clash\"}, {\"id\":...</td>\n",
       "      <td>[{\"cast_id\": 242, \"character\": \"Jake Sully\", \"...</td>\n",
       "      <td>[{\"credit_id\": \"52fe48009251416c750aca23\", \"de...</td>\n",
       "    </tr>\n",
       "    <tr>\n",
       "      <th>1</th>\n",
       "      <td>285</td>\n",
       "      <td>[{\"id\": 12, \"name\": \"Adventure\"}, {\"id\": 14, \"...</td>\n",
       "      <td>Pirates of the Caribbean: At World's End</td>\n",
       "      <td>Captain Barbossa, long believed to be dead, ha...</td>\n",
       "      <td>[{\"id\": 270, \"name\": \"ocean\"}, {\"id\": 726, \"na...</td>\n",
       "      <td>[{\"cast_id\": 4, \"character\": \"Captain Jack Spa...</td>\n",
       "      <td>[{\"credit_id\": \"52fe4232c3a36847f800b579\", \"de...</td>\n",
       "    </tr>\n",
       "  </tbody>\n",
       "</table>\n",
       "</div>"
      ],
      "text/plain": [
       "      id                                             genres  \\\n",
       "0  19995  [{\"id\": 28, \"name\": \"Action\"}, {\"id\": 12, \"nam...   \n",
       "1    285  [{\"id\": 12, \"name\": \"Adventure\"}, {\"id\": 14, \"...   \n",
       "\n",
       "                                      title  \\\n",
       "0                                    Avatar   \n",
       "1  Pirates of the Caribbean: At World's End   \n",
       "\n",
       "                                            overview  \\\n",
       "0  In the 22nd century, a paraplegic Marine is di...   \n",
       "1  Captain Barbossa, long believed to be dead, ha...   \n",
       "\n",
       "                                            keywords  \\\n",
       "0  [{\"id\": 1463, \"name\": \"culture clash\"}, {\"id\":...   \n",
       "1  [{\"id\": 270, \"name\": \"ocean\"}, {\"id\": 726, \"na...   \n",
       "\n",
       "                                                cast  \\\n",
       "0  [{\"cast_id\": 242, \"character\": \"Jake Sully\", \"...   \n",
       "1  [{\"cast_id\": 4, \"character\": \"Captain Jack Spa...   \n",
       "\n",
       "                                                crew  \n",
       "0  [{\"credit_id\": \"52fe48009251416c750aca23\", \"de...  \n",
       "1  [{\"credit_id\": \"52fe4232c3a36847f800b579\", \"de...  "
      ]
     },
     "execution_count": 14,
     "metadata": {},
     "output_type": "execute_result"
    }
   ],
   "source": [
    "movies.head(2)"
   ]
  },
  {
   "cell_type": "code",
   "execution_count": 15,
   "id": "fb3672da-75a1-4c08-b324-56d17a7588ad",
   "metadata": {},
   "outputs": [
    {
     "data": {
      "text/plain": [
       "'[{\"id\": 28, \"name\": \"Action\"}, {\"id\": 12, \"name\": \"Adventure\"}, {\"id\": 14, \"name\": \"Fantasy\"}, {\"id\": 878, \"name\": \"Science Fiction\"}]'"
      ]
     },
     "execution_count": 15,
     "metadata": {},
     "output_type": "execute_result"
    }
   ],
   "source": [
    "movies['genres'][0]"
   ]
  },
  {
   "cell_type": "code",
   "execution_count": null,
   "id": "3bb2cf00-954d-41c3-a3d1-36d50921fe69",
   "metadata": {},
   "outputs": [],
   "source": []
  },
  {
   "cell_type": "code",
   "execution_count": 16,
   "id": "d006e8ce-7097-4e1a-b245-ea0d71b82631",
   "metadata": {},
   "outputs": [
    {
     "data": {
      "text/plain": [
       "0       [{\"id\": 28, \"name\": \"Action\"}, {\"id\": 12, \"nam...\n",
       "1       [{\"id\": 12, \"name\": \"Adventure\"}, {\"id\": 14, \"...\n",
       "2       [{\"id\": 28, \"name\": \"Action\"}, {\"id\": 12, \"nam...\n",
       "3       [{\"id\": 28, \"name\": \"Action\"}, {\"id\": 80, \"nam...\n",
       "4       [{\"id\": 28, \"name\": \"Action\"}, {\"id\": 12, \"nam...\n",
       "                              ...                        \n",
       "4804    [{\"id\": 28, \"name\": \"Action\"}, {\"id\": 80, \"nam...\n",
       "4805    [{\"id\": 35, \"name\": \"Comedy\"}, {\"id\": 10749, \"...\n",
       "4806    [{\"id\": 35, \"name\": \"Comedy\"}, {\"id\": 18, \"nam...\n",
       "4807                                                   []\n",
       "4808                  [{\"id\": 99, \"name\": \"Documentary\"}]\n",
       "Name: genres, Length: 4806, dtype: object"
      ]
     },
     "execution_count": 16,
     "metadata": {},
     "output_type": "execute_result"
    }
   ],
   "source": [
    "movies['genres']"
   ]
  },
  {
   "cell_type": "code",
   "execution_count": 17,
   "id": "5072f362-ecf5-41eb-94fc-a855946852ed",
   "metadata": {},
   "outputs": [],
   "source": [
    "def show1(obj):\n",
    "    list = []\n",
    "    for x in ast.literal_eval(obj):\n",
    "            list.append(x['name'])\n",
    "    return list"
   ]
  },
  {
   "cell_type": "code",
   "execution_count": 18,
   "id": "d26a6ff0-333c-473a-a564-9cfe402edba3",
   "metadata": {},
   "outputs": [],
   "source": [
    "movies['genre_names'] = movies['genres'].apply(show1)"
   ]
  },
  {
   "cell_type": "code",
   "execution_count": 19,
   "id": "ab136020-0c02-4fa5-99c3-06d3ca32035e",
   "metadata": {},
   "outputs": [],
   "source": [
    "movies['genres'] = movies['genre_names']"
   ]
  },
  {
   "cell_type": "code",
   "execution_count": 20,
   "id": "3dd9ffa6-931e-44f2-b49a-f7e3c1a3a902",
   "metadata": {},
   "outputs": [],
   "source": [
    "movies.drop('genre_names',axis=1,inplace = True)"
   ]
  },
  {
   "cell_type": "code",
   "execution_count": 21,
   "id": "b21470f6-2a58-4c63-8354-63e83059a83a",
   "metadata": {},
   "outputs": [],
   "source": [
    "# movies['keywords'] = movies['keywords'].apply(lambda x: [genre['name'] for genre in x])\n",
    "movies['keywords'] = movies['keywords'].apply(show1)"
   ]
  },
  {
   "cell_type": "code",
   "execution_count": 22,
   "id": "ab9008fe-08b0-4698-8371-e8602aa1d87d",
   "metadata": {},
   "outputs": [],
   "source": [
    "# movies['cast'] = movies['cast'].apply(lambda x: [genre['name'] for genre in x])\n",
    "movies['cast'] = movies['cast'].apply(show1)"
   ]
  },
  {
   "cell_type": "code",
   "execution_count": 23,
   "id": "ca0c9207-36ce-4335-a3e5-07f63a129cfa",
   "metadata": {},
   "outputs": [
    {
     "data": {
      "text/plain": [
       "0       [{\"credit_id\": \"52fe48009251416c750aca23\", \"de...\n",
       "1       [{\"credit_id\": \"52fe4232c3a36847f800b579\", \"de...\n",
       "2       [{\"credit_id\": \"54805967c3a36829b5002c41\", \"de...\n",
       "3       [{\"credit_id\": \"52fe4781c3a36847f81398c3\", \"de...\n",
       "4       [{\"credit_id\": \"52fe479ac3a36847f813eaa3\", \"de...\n",
       "                              ...                        \n",
       "4804    [{\"credit_id\": \"52fe44eec3a36847f80b280b\", \"de...\n",
       "4805    [{\"credit_id\": \"52fe487dc3a368484e0fb013\", \"de...\n",
       "4806    [{\"credit_id\": \"52fe4df3c3a36847f8275ecf\", \"de...\n",
       "4807    [{\"credit_id\": \"52fe4ad9c3a368484e16a36b\", \"de...\n",
       "4808    [{\"credit_id\": \"58ce021b9251415a390165d9\", \"de...\n",
       "Name: crew, Length: 4806, dtype: object"
      ]
     },
     "execution_count": 23,
     "metadata": {},
     "output_type": "execute_result"
    }
   ],
   "source": [
    "movies['crew']"
   ]
  },
  {
   "cell_type": "code",
   "execution_count": 24,
   "id": "f20a12b0-8be1-4ccc-8622-94692f159c73",
   "metadata": {},
   "outputs": [],
   "source": [
    "def show(obj):\n",
    "    list = []\n",
    "    counter = 0\n",
    "    for x in ast.literal_eval(obj):\n",
    "        if counter != 3:\n",
    "            list.append(x['name'])\n",
    "            counter += 1\n",
    "        else:\n",
    "            break\n",
    "    return list"
   ]
  },
  {
   "cell_type": "code",
   "execution_count": 25,
   "id": "e4888d79-d623-4ef0-b136-21eab960312e",
   "metadata": {},
   "outputs": [],
   "source": [
    "# movies['crew'] = movies['crew'].apply(show)"
   ]
  },
  {
   "cell_type": "code",
   "execution_count": 26,
   "id": "846f30c7-1945-4337-835a-5f386dfe0f4b",
   "metadata": {},
   "outputs": [
    {
     "data": {
      "text/html": [
       "<div>\n",
       "<style scoped>\n",
       "    .dataframe tbody tr th:only-of-type {\n",
       "        vertical-align: middle;\n",
       "    }\n",
       "\n",
       "    .dataframe tbody tr th {\n",
       "        vertical-align: top;\n",
       "    }\n",
       "\n",
       "    .dataframe thead th {\n",
       "        text-align: right;\n",
       "    }\n",
       "</style>\n",
       "<table border=\"1\" class=\"dataframe\">\n",
       "  <thead>\n",
       "    <tr style=\"text-align: right;\">\n",
       "      <th></th>\n",
       "      <th>id</th>\n",
       "      <th>genres</th>\n",
       "      <th>title</th>\n",
       "      <th>overview</th>\n",
       "      <th>keywords</th>\n",
       "      <th>cast</th>\n",
       "      <th>crew</th>\n",
       "    </tr>\n",
       "  </thead>\n",
       "  <tbody>\n",
       "    <tr>\n",
       "      <th>0</th>\n",
       "      <td>19995</td>\n",
       "      <td>[Action, Adventure, Fantasy, Science Fiction]</td>\n",
       "      <td>Avatar</td>\n",
       "      <td>In the 22nd century, a paraplegic Marine is di...</td>\n",
       "      <td>[culture clash, future, space war, space colon...</td>\n",
       "      <td>[Sam Worthington, Zoe Saldana, Sigourney Weave...</td>\n",
       "      <td>[{\"credit_id\": \"52fe48009251416c750aca23\", \"de...</td>\n",
       "    </tr>\n",
       "    <tr>\n",
       "      <th>1</th>\n",
       "      <td>285</td>\n",
       "      <td>[Adventure, Fantasy, Action]</td>\n",
       "      <td>Pirates of the Caribbean: At World's End</td>\n",
       "      <td>Captain Barbossa, long believed to be dead, ha...</td>\n",
       "      <td>[ocean, drug abuse, exotic island, east india ...</td>\n",
       "      <td>[Johnny Depp, Orlando Bloom, Keira Knightley, ...</td>\n",
       "      <td>[{\"credit_id\": \"52fe4232c3a36847f800b579\", \"de...</td>\n",
       "    </tr>\n",
       "  </tbody>\n",
       "</table>\n",
       "</div>"
      ],
      "text/plain": [
       "      id                                         genres  \\\n",
       "0  19995  [Action, Adventure, Fantasy, Science Fiction]   \n",
       "1    285                   [Adventure, Fantasy, Action]   \n",
       "\n",
       "                                      title  \\\n",
       "0                                    Avatar   \n",
       "1  Pirates of the Caribbean: At World's End   \n",
       "\n",
       "                                            overview  \\\n",
       "0  In the 22nd century, a paraplegic Marine is di...   \n",
       "1  Captain Barbossa, long believed to be dead, ha...   \n",
       "\n",
       "                                            keywords  \\\n",
       "0  [culture clash, future, space war, space colon...   \n",
       "1  [ocean, drug abuse, exotic island, east india ...   \n",
       "\n",
       "                                                cast  \\\n",
       "0  [Sam Worthington, Zoe Saldana, Sigourney Weave...   \n",
       "1  [Johnny Depp, Orlando Bloom, Keira Knightley, ...   \n",
       "\n",
       "                                                crew  \n",
       "0  [{\"credit_id\": \"52fe48009251416c750aca23\", \"de...  \n",
       "1  [{\"credit_id\": \"52fe4232c3a36847f800b579\", \"de...  "
      ]
     },
     "execution_count": 26,
     "metadata": {},
     "output_type": "execute_result"
    }
   ],
   "source": [
    "movies.head(2)"
   ]
  },
  {
   "cell_type": "code",
   "execution_count": 27,
   "id": "d58b2c19-a8f6-4eb0-b6f0-e7f320f8a5d6",
   "metadata": {},
   "outputs": [],
   "source": [
    "def show3(obj):\n",
    "    list = []\n",
    "    for x in ast.literal_eval(obj):\n",
    "            if x['job'] == 'Director':\n",
    "                list.append(x['name'])\n",
    "                break\n",
    "    return list"
   ]
  },
  {
   "cell_type": "code",
   "execution_count": 28,
   "id": "cd71a4f1-288c-4e1c-8b8d-da146301769d",
   "metadata": {},
   "outputs": [],
   "source": [
    "movies['Director name'] = movies['crew'].apply(show3)"
   ]
  },
  {
   "cell_type": "code",
   "execution_count": 29,
   "id": "9d6d9493-64b0-4bb3-92be-e375770f9782",
   "metadata": {},
   "outputs": [],
   "source": [
    "movies.drop('crew',axis = 1,inplace = True)"
   ]
  },
  {
   "cell_type": "code",
   "execution_count": 30,
   "id": "895e167a-08e7-47ce-a77d-a90dbd95284b",
   "metadata": {},
   "outputs": [],
   "source": [
    "movies['keywords'] = movies['keywords'].apply(lambda x:[i.replace(\" \",\"\") for i in x] )\n",
    "movies['genres'] = movies['genres'].apply(lambda x:[i.replace(\" \",\"\") for i in x] )\n",
    "movies['cast'] = movies['cast'].apply(lambda x:[i.replace(\" \",\"\") for i in x] )\n",
    "movies['Director name'] = movies['Director name'].apply(lambda x:[i.replace(\" \",\"\") for i in x] )"
   ]
  },
  {
   "cell_type": "code",
   "execution_count": 31,
   "id": "47f4ed6d-a300-4626-96f4-6b041679a5ee",
   "metadata": {},
   "outputs": [
    {
     "data": {
      "text/plain": [
       "Index(['id', 'genres', 'title', 'overview', 'keywords', 'cast',\n",
       "       'Director name'],\n",
       "      dtype='object')"
      ]
     },
     "execution_count": 31,
     "metadata": {},
     "output_type": "execute_result"
    }
   ],
   "source": [
    "movies.columns"
   ]
  },
  {
   "cell_type": "code",
   "execution_count": 32,
   "id": "4fe09345-fda8-4317-8501-a4dd36b8dfa2",
   "metadata": {},
   "outputs": [],
   "source": [
    "# movies['tag'] = movies['genres'] + movies['Director name'] + movies['cast'] + movies['keywords']+ movies['overview']"
   ]
  },
  {
   "cell_type": "code",
   "execution_count": 33,
   "id": "921c319f-e469-4f6f-98a6-07e074350623",
   "metadata": {},
   "outputs": [],
   "source": [
    "list1 = movies['overview'].tolist()"
   ]
  },
  {
   "cell_type": "code",
   "execution_count": 34,
   "id": "7348f764-aeec-429d-ab4a-ffa86dd155ef",
   "metadata": {},
   "outputs": [],
   "source": [
    "# movies['overview'] = movies['overview'].apply(lambda x:x.split())"
   ]
  },
  {
   "cell_type": "code",
   "execution_count": 35,
   "id": "037684db-d3e3-4f24-b46c-79b22f4b28a0",
   "metadata": {},
   "outputs": [],
   "source": [
    "# newdf = movies[['id','title','tag']]"
   ]
  },
  {
   "cell_type": "code",
   "execution_count": 36,
   "id": "7d0ac12e-67a5-43eb-9516-fd6010794cf8",
   "metadata": {},
   "outputs": [
    {
     "data": {
      "text/html": [
       "<div>\n",
       "<style scoped>\n",
       "    .dataframe tbody tr th:only-of-type {\n",
       "        vertical-align: middle;\n",
       "    }\n",
       "\n",
       "    .dataframe tbody tr th {\n",
       "        vertical-align: top;\n",
       "    }\n",
       "\n",
       "    .dataframe thead th {\n",
       "        text-align: right;\n",
       "    }\n",
       "</style>\n",
       "<table border=\"1\" class=\"dataframe\">\n",
       "  <thead>\n",
       "    <tr style=\"text-align: right;\">\n",
       "      <th></th>\n",
       "      <th>id</th>\n",
       "      <th>genres</th>\n",
       "      <th>title</th>\n",
       "      <th>overview</th>\n",
       "      <th>keywords</th>\n",
       "      <th>cast</th>\n",
       "      <th>Director name</th>\n",
       "    </tr>\n",
       "  </thead>\n",
       "  <tbody>\n",
       "    <tr>\n",
       "      <th>0</th>\n",
       "      <td>19995</td>\n",
       "      <td>[Action, Adventure, Fantasy, ScienceFiction]</td>\n",
       "      <td>Avatar</td>\n",
       "      <td>In the 22nd century, a paraplegic Marine is di...</td>\n",
       "      <td>[cultureclash, future, spacewar, spacecolony, ...</td>\n",
       "      <td>[SamWorthington, ZoeSaldana, SigourneyWeaver, ...</td>\n",
       "      <td>[JamesCameron]</td>\n",
       "    </tr>\n",
       "    <tr>\n",
       "      <th>1</th>\n",
       "      <td>285</td>\n",
       "      <td>[Adventure, Fantasy, Action]</td>\n",
       "      <td>Pirates of the Caribbean: At World's End</td>\n",
       "      <td>Captain Barbossa, long believed to be dead, ha...</td>\n",
       "      <td>[ocean, drugabuse, exoticisland, eastindiatrad...</td>\n",
       "      <td>[JohnnyDepp, OrlandoBloom, KeiraKnightley, Ste...</td>\n",
       "      <td>[GoreVerbinski]</td>\n",
       "    </tr>\n",
       "  </tbody>\n",
       "</table>\n",
       "</div>"
      ],
      "text/plain": [
       "      id                                        genres  \\\n",
       "0  19995  [Action, Adventure, Fantasy, ScienceFiction]   \n",
       "1    285                  [Adventure, Fantasy, Action]   \n",
       "\n",
       "                                      title  \\\n",
       "0                                    Avatar   \n",
       "1  Pirates of the Caribbean: At World's End   \n",
       "\n",
       "                                            overview  \\\n",
       "0  In the 22nd century, a paraplegic Marine is di...   \n",
       "1  Captain Barbossa, long believed to be dead, ha...   \n",
       "\n",
       "                                            keywords  \\\n",
       "0  [cultureclash, future, spacewar, spacecolony, ...   \n",
       "1  [ocean, drugabuse, exoticisland, eastindiatrad...   \n",
       "\n",
       "                                                cast    Director name  \n",
       "0  [SamWorthington, ZoeSaldana, SigourneyWeaver, ...   [JamesCameron]  \n",
       "1  [JohnnyDepp, OrlandoBloom, KeiraKnightley, Ste...  [GoreVerbinski]  "
      ]
     },
     "execution_count": 36,
     "metadata": {},
     "output_type": "execute_result"
    }
   ],
   "source": [
    "movies.head(2)"
   ]
  },
  {
   "cell_type": "code",
   "execution_count": 37,
   "id": "c0b5fd16-8bdb-4510-9b96-97d05c9e7c64",
   "metadata": {},
   "outputs": [],
   "source": [
    "movies['overview'] = movies['overview'].apply(lambda x:x.split())"
   ]
  },
  {
   "cell_type": "code",
   "execution_count": 38,
   "id": "3e9d00d2-381f-4ffe-b1cd-a3bcdaf951c3",
   "metadata": {},
   "outputs": [],
   "source": [
    "movies['tag'] = movies['genres'] + movies['Director name'] + movies['cast'] + movies['keywords']+ movies['overview']"
   ]
  },
  {
   "cell_type": "code",
   "execution_count": 39,
   "id": "ecbf68df-b77b-4f01-9f31-ee918a8ef23d",
   "metadata": {},
   "outputs": [],
   "source": [
    "newdf = movies[['id','title','tag']]"
   ]
  },
  {
   "cell_type": "code",
   "execution_count": 40,
   "id": "46139de0-5f8f-43b0-b834-a7e0cb448abe",
   "metadata": {},
   "outputs": [],
   "source": [
    "# newdf.drop('tags',axis = 1,inplace = True)"
   ]
  },
  {
   "cell_type": "markdown",
   "id": "184708c8-c4df-4cd2-bebd-73c15c0f6e80",
   "metadata": {},
   "source": [
    "# Vectorization"
   ]
  },
  {
   "cell_type": "code",
   "execution_count": 42,
   "id": "832c0541-de70-4d3f-b89f-524a164ad3e9",
   "metadata": {},
   "outputs": [],
   "source": [
    "from sklearn.feature_extraction.text import CountVectorizer"
   ]
  },
  {
   "cell_type": "code",
   "execution_count": 43,
   "id": "f4762955-b776-4aba-844f-089673a2619b",
   "metadata": {},
   "outputs": [],
   "source": [
    "cv = CountVectorizer(max_features=5000,stop_words='english')"
   ]
  },
  {
   "cell_type": "code",
   "execution_count": 44,
   "id": "23025a1c-99ca-464c-ba43-d5f21fc02d0e",
   "metadata": {},
   "outputs": [],
   "source": [
    "# cv.fit_transform(newdf['tag']).toarray()"
   ]
  },
  {
   "cell_type": "code",
   "execution_count": 45,
   "id": "dd6a2100",
   "metadata": {},
   "outputs": [
    {
     "data": {
      "text/plain": [
       "0       [Action, Adventure, Fantasy, ScienceFiction, J...\n",
       "1       [Adventure, Fantasy, Action, GoreVerbinski, Jo...\n",
       "2       [Action, Adventure, Crime, SamMendes, DanielCr...\n",
       "3       [Action, Crime, Drama, Thriller, ChristopherNo...\n",
       "4       [Action, Adventure, ScienceFiction, AndrewStan...\n",
       "                              ...                        \n",
       "4804    [Action, Crime, Thriller, RobertRodriguez, Car...\n",
       "4805    [Comedy, Romance, EdwardBurns, EdwardBurns, Ke...\n",
       "4806    [Comedy, Drama, Romance, TVMovie, ScottSmith, ...\n",
       "4807    [DanielHsia, DanielHenney, ElizaCoupe, BillPax...\n",
       "4808    [Documentary, BrianHerzlinger, DrewBarrymore, ...\n",
       "Name: tag, Length: 4806, dtype: object"
      ]
     },
     "execution_count": 45,
     "metadata": {},
     "output_type": "execute_result"
    }
   ],
   "source": [
    "newdf['tag']"
   ]
  },
  {
   "cell_type": "markdown",
   "id": "c508c158",
   "metadata": {},
   "source": []
  },
  {
   "cell_type": "code",
   "execution_count": 47,
   "id": "76320ec3-07ca-4edc-b54a-d457bf489629",
   "metadata": {},
   "outputs": [
    {
     "name": "stderr",
     "output_type": "stream",
     "text": [
      "C:\\Users\\siddh\\AppData\\Local\\Temp\\ipykernel_9540\\2549400267.py:1: SettingWithCopyWarning: \n",
      "A value is trying to be set on a copy of a slice from a DataFrame.\n",
      "Try using .loc[row_indexer,col_indexer] = value instead\n",
      "\n",
      "See the caveats in the documentation: https://pandas.pydata.org/pandas-docs/stable/user_guide/indexing.html#returning-a-view-versus-a-copy\n",
      "  newdf['tag'] = newdf['tag'].apply(lambda x: \" \".join(x))\n"
     ]
    }
   ],
   "source": [
    "newdf['tag'] = newdf['tag'].apply(lambda x: \" \".join(x))"
   ]
  },
  {
   "cell_type": "code",
   "execution_count": 48,
   "id": "ccc23c62-c064-47a2-a063-2dc55760eb1a",
   "metadata": {},
   "outputs": [],
   "source": [
    "vector = cv.fit_transform(newdf['tag']).toarray()"
   ]
  },
  {
   "cell_type": "markdown",
   "id": "f1f05d03-8b23-4f20-af07-ee3e77cb1a2b",
   "metadata": {},
   "source": [
    "# Finding similarity"
   ]
  },
  {
   "cell_type": "code",
   "execution_count": 50,
   "id": "2d6f60bf-ca20-425d-b545-73e2abaa0570",
   "metadata": {},
   "outputs": [],
   "source": [
    "from sklearn.metrics.pairwise import cosine_similarity"
   ]
  },
  {
   "cell_type": "code",
   "execution_count": 51,
   "id": "3c04c87a-3d3a-4330-b488-a78c0ad3e106",
   "metadata": {},
   "outputs": [],
   "source": [
    "similarity = cosine_similarity(vector)"
   ]
  },
  {
   "cell_type": "code",
   "execution_count": 52,
   "id": "c65b9365-87bd-4e67-81f8-2696d7714e35",
   "metadata": {},
   "outputs": [
    {
     "data": {
      "text/plain": [
       "array([1.        , 0.07142857, 0.05216405, ..., 0.02326211, 0.02571722,\n",
       "       0.        ])"
      ]
     },
     "execution_count": 52,
     "metadata": {},
     "output_type": "execute_result"
    }
   ],
   "source": [
    "similarity[0]"
   ]
  },
  {
   "cell_type": "code",
   "execution_count": 53,
   "id": "6653d00e-f0bd-47d6-842e-7334b885614d",
   "metadata": {},
   "outputs": [
    {
     "data": {
      "text/plain": [
       "array(['000', '007', '10', ..., 'zoo', 'zooeydeschanel', 'zoëkravitz'],\n",
       "      dtype=object)"
      ]
     },
     "execution_count": 53,
     "metadata": {},
     "output_type": "execute_result"
    }
   ],
   "source": [
    "cv.get_feature_names_out()"
   ]
  },
  {
   "cell_type": "markdown",
   "id": "908962da-8bd5-4288-b020-db5a97954218",
   "metadata": {},
   "source": [
    "# Removing the extra words and similar words "
   ]
  },
  {
   "cell_type": "code",
   "execution_count": 55,
   "id": "a4ec6516-c0ff-45b8-9552-f576fad9119c",
   "metadata": {},
   "outputs": [],
   "source": [
    "import nltk"
   ]
  },
  {
   "cell_type": "code",
   "execution_count": 56,
   "id": "a6c76b5a-254e-426a-92be-8c9474efc819",
   "metadata": {},
   "outputs": [],
   "source": [
    "from nltk.stem.porter import PorterStemmer\n",
    "ps = PorterStemmer()"
   ]
  },
  {
   "cell_type": "code",
   "execution_count": 57,
   "id": "a01da21b-b831-4e32-a7e4-3f63c75f1916",
   "metadata": {},
   "outputs": [],
   "source": [
    "def show(text):\n",
    "    y = []\n",
    "\n",
    "    for i in text.split():\n",
    "        y.append(ps.stem(i))\n",
    "    return \" \".join(y)"
   ]
  },
  {
   "cell_type": "code",
   "execution_count": 58,
   "id": "eaae6adb-a33d-4eee-894b-a3bfdbef13ee",
   "metadata": {},
   "outputs": [
    {
     "name": "stderr",
     "output_type": "stream",
     "text": [
      "C:\\Users\\siddh\\AppData\\Local\\Temp\\ipykernel_9540\\20118215.py:1: SettingWithCopyWarning: \n",
      "A value is trying to be set on a copy of a slice from a DataFrame.\n",
      "Try using .loc[row_indexer,col_indexer] = value instead\n",
      "\n",
      "See the caveats in the documentation: https://pandas.pydata.org/pandas-docs/stable/user_guide/indexing.html#returning-a-view-versus-a-copy\n",
      "  newdf['tag'] = newdf['tag'].apply(show)\n"
     ]
    }
   ],
   "source": [
    "newdf['tag'] = newdf['tag'].apply(show)"
   ]
  },
  {
   "cell_type": "code",
   "execution_count": 59,
   "id": "491cdd69-6a8f-4fad-a10c-5b7b72d66875",
   "metadata": {},
   "outputs": [
    {
     "data": {
      "text/plain": [
       "0"
      ]
     },
     "execution_count": 59,
     "metadata": {},
     "output_type": "execute_result"
    }
   ],
   "source": [
    "newdf[newdf['title'] == 'Avatar'].index[0]"
   ]
  },
  {
   "cell_type": "code",
   "execution_count": 60,
   "id": "4b69c93a-47d7-44ec-943f-afadf15e0f26",
   "metadata": {},
   "outputs": [
    {
     "data": {
      "text/plain": [
       "[(1916, 0.23473823893078544),\n",
       " (1214, 0.23294541397390256),\n",
       " (582, 0.23097828906119441),\n",
       " (539, 0.2252817784447915),\n",
       " (507, 0.2191252450446388)]"
      ]
     },
     "execution_count": 60,
     "metadata": {},
     "output_type": "execute_result"
    }
   ],
   "source": [
    "sorted(list(enumerate(similarity[0])),reverse=True,key= lambda x:x[1])[1:6]"
   ]
  },
  {
   "cell_type": "code",
   "execution_count": 61,
   "id": "dbc71798-80cc-44f2-abca-668147294c97",
   "metadata": {},
   "outputs": [],
   "source": [
    "def recoment(movie):\n",
    "    movie_index= newdf[newdf['title'] == movie].index[0]\n",
    "    distance = similarity[movie_index]\n",
    "    movie_list = sorted(list(enumerate(distance)),reverse=True,key= lambda x:x[1])[1:6]\n",
    "    for x in movie_list:\n",
    "        print(newdf.iloc[x[0]].title)"
   ]
  },
  {
   "cell_type": "code",
   "execution_count": 62,
   "id": "d5c87ff0-09b8-4c15-a256-9fb598153e65",
   "metadata": {},
   "outputs": [
    {
     "name": "stdout",
     "output_type": "stream",
     "text": [
      "Lifeforce\n",
      "Aliens vs Predator: Requiem\n",
      "Battle: Los Angeles\n",
      "Titan A.E.\n",
      "Independence Day\n"
     ]
    }
   ],
   "source": [
    "recoment('Avatar')"
   ]
  },
  {
   "cell_type": "code",
   "execution_count": 63,
   "id": "e067ea2a-21a5-4113-a4b0-8eb091f295fa",
   "metadata": {},
   "outputs": [
    {
     "data": {
      "text/plain": [
       "'Lifeforce'"
      ]
     },
     "execution_count": 63,
     "metadata": {},
     "output_type": "execute_result"
    }
   ],
   "source": [
    "newdf.iloc[1916].title"
   ]
  },
  {
   "cell_type": "code",
   "execution_count": 64,
   "id": "8efeebcd-69a8-49dd-9cbf-57b7d28f885e",
   "metadata": {},
   "outputs": [],
   "source": [
    "import pickle"
   ]
  },
  {
   "cell_type": "code",
   "execution_count": 65,
   "id": "4c64e855-c3f3-43d8-8140-d1f61eef699a",
   "metadata": {},
   "outputs": [],
   "source": [
    "pickle.dump(newdf,open('movie_list.pkl','wb'))\n",
    "pickle.dump(similarity,open('similarity.pkl','wb'))"
   ]
  },
  {
   "cell_type": "code",
   "execution_count": 66,
   "id": "2f4dfd1e-be5f-4b70-b696-51ce5ac00583",
   "metadata": {},
   "outputs": [],
   "source": [
    "pickle.dump(newdf.to_dict(),open('movie_dict.pkl.pkl','wb'))"
   ]
  },
  {
   "cell_type": "code",
   "execution_count": 144,
   "id": "cfd139fc-cc57-4e0f-a10f-9f44c95340d8",
   "metadata": {},
   "outputs": [
    {
     "data": {
      "text/html": [
       "<div>\n",
       "<style scoped>\n",
       "    .dataframe tbody tr th:only-of-type {\n",
       "        vertical-align: middle;\n",
       "    }\n",
       "\n",
       "    .dataframe tbody tr th {\n",
       "        vertical-align: top;\n",
       "    }\n",
       "\n",
       "    .dataframe thead th {\n",
       "        text-align: right;\n",
       "    }\n",
       "</style>\n",
       "<table border=\"1\" class=\"dataframe\">\n",
       "  <thead>\n",
       "    <tr style=\"text-align: right;\">\n",
       "      <th></th>\n",
       "      <th>id</th>\n",
       "      <th>title</th>\n",
       "      <th>tag</th>\n",
       "    </tr>\n",
       "  </thead>\n",
       "  <tbody>\n",
       "    <tr>\n",
       "      <th>0</th>\n",
       "      <td>19995</td>\n",
       "      <td>Avatar</td>\n",
       "      <td>action adventur fantasi sciencefict jamescamer...</td>\n",
       "    </tr>\n",
       "    <tr>\n",
       "      <th>1</th>\n",
       "      <td>285</td>\n",
       "      <td>Pirates of the Caribbean: At World's End</td>\n",
       "      <td>adventur fantasi action goreverbinski johnnyde...</td>\n",
       "    </tr>\n",
       "    <tr>\n",
       "      <th>2</th>\n",
       "      <td>206647</td>\n",
       "      <td>Spectre</td>\n",
       "      <td>action adventur crime sammend danielcraig chri...</td>\n",
       "    </tr>\n",
       "    <tr>\n",
       "      <th>3</th>\n",
       "      <td>49026</td>\n",
       "      <td>The Dark Knight Rises</td>\n",
       "      <td>action crime drama thriller christophernolan c...</td>\n",
       "    </tr>\n",
       "    <tr>\n",
       "      <th>4</th>\n",
       "      <td>49529</td>\n",
       "      <td>John Carter</td>\n",
       "      <td>action adventur sciencefict andrewstanton tayl...</td>\n",
       "    </tr>\n",
       "  </tbody>\n",
       "</table>\n",
       "</div>"
      ],
      "text/plain": [
       "       id                                     title  \\\n",
       "0   19995                                    Avatar   \n",
       "1     285  Pirates of the Caribbean: At World's End   \n",
       "2  206647                                   Spectre   \n",
       "3   49026                     The Dark Knight Rises   \n",
       "4   49529                               John Carter   \n",
       "\n",
       "                                                 tag  \n",
       "0  action adventur fantasi sciencefict jamescamer...  \n",
       "1  adventur fantasi action goreverbinski johnnyde...  \n",
       "2  action adventur crime sammend danielcraig chri...  \n",
       "3  action crime drama thriller christophernolan c...  \n",
       "4  action adventur sciencefict andrewstanton tayl...  "
      ]
     },
     "execution_count": 144,
     "metadata": {},
     "output_type": "execute_result"
    }
   ],
   "source": [
    "newdf.head()"
   ]
  },
  {
   "cell_type": "code",
   "execution_count": 142,
   "id": "883bc387-3adc-4870-adef-3dfe7788608f",
   "metadata": {},
   "outputs": [
    {
     "name": "stdout",
     "output_type": "stream",
     "text": [
      "Star Trek: Insurrection\n",
      "Ghosts of Mars\n",
      "The Thing\n",
      "Mission to Mars\n",
      "The Marine 4: Moving Target\n"
     ]
    }
   ],
   "source": [
    "recoment('John Carter')"
   ]
  },
  {
   "cell_type": "code",
   "execution_count": 151,
   "id": "a6419152-80b1-4205-893f-07ed83351e9d",
   "metadata": {},
   "outputs": [
    {
     "name": "stdout",
     "output_type": "stream",
     "text": [
      "Lifeforce\n",
      "Aliens vs Predator: Requiem\n",
      "Battle: Los Angeles\n",
      "Titan A.E.\n",
      "Independence Day\n"
     ]
    }
   ],
   "source": [
    "recoment('Avatar')"
   ]
  },
  {
   "cell_type": "code",
   "execution_count": null,
   "id": "05c75ed2-3132-4754-a262-80046a18bc71",
   "metadata": {},
   "outputs": [],
   "source": []
  },
  {
   "cell_type": "code",
   "execution_count": null,
   "id": "7468c33a-1a9e-4c18-9cd8-0246110fafaf",
   "metadata": {},
   "outputs": [],
   "source": []
  },
  {
   "cell_type": "code",
   "execution_count": null,
   "id": "1bfd2237-7993-4af2-a119-2bbcff3a2e2d",
   "metadata": {},
   "outputs": [],
   "source": []
  }
 ],
 "metadata": {
  "kernelspec": {
   "display_name": "Python [conda env:base] *",
   "language": "python",
   "name": "conda-base-py"
  },
  "language_info": {
   "codemirror_mode": {
    "name": "ipython",
    "version": 3
   },
   "file_extension": ".py",
   "mimetype": "text/x-python",
   "name": "python",
   "nbconvert_exporter": "python",
   "pygments_lexer": "ipython3",
   "version": "3.12.7"
  }
 },
 "nbformat": 4,
 "nbformat_minor": 5
}
